{
 "cells": [
  {
   "cell_type": "markdown",
   "id": "565d2775",
   "metadata": {},
   "source": [
    "Install and import dependencies"
   ]
  },
  {
   "cell_type": "code",
   "execution_count": null,
   "id": "4abe17f7",
   "metadata": {},
   "outputs": [],
   "source": [
    "!pip install torch torchvision torchaudio --extra-index-url https://download.pytorch.org/whl/cu113"
   ]
  },
  {
   "cell_type": "code",
   "execution_count": null,
   "id": "9ff4385e",
   "metadata": {},
   "outputs": [],
   "source": [
    "!pip list"
   ]
  },
  {
   "cell_type": "code",
   "execution_count": null,
   "id": "bb8a3448",
   "metadata": {},
   "outputs": [],
   "source": [
    "!pip install stable-baselines3[extra] protobuf==3.20.*"
   ]
  },
  {
   "cell_type": "code",
   "execution_count": null,
   "id": "d09437ce",
   "metadata": {},
   "outputs": [],
   "source": [
    "!pip install mss pydirectinput pytesseract"
   ]
  },
  {
   "cell_type": "code",
   "execution_count": null,
   "id": "4f37f4a2",
   "metadata": {},
   "outputs": [],
   "source": [
    "#MSS  used for screen capturing\n",
    "from mss import mss\n",
    "\n",
    "#sending commands\n",
    "import pydirectinput\n",
    "\n",
    "#it allows us to do frame processing\n",
    "import cv2\n",
    "\n",
    "import numpy as np\n",
    "\n",
    "#OCR for game over extraction\n",
    "import pytesseract\n",
    "\n",
    "from matplotlib import pyplot as plt\n",
    "\n",
    "import time \n",
    "\n",
    "#environment components\n",
    "from gym import Env\n",
    "from gym.spaces import Box, Discrete"
   ]
  },
  {
   "cell_type": "markdown",
   "id": "456f4904",
   "metadata": {},
   "source": [
    "Build the environment"
   ]
  },
  {
   "cell_type": "code",
   "execution_count": null,
   "id": "b773e473",
   "metadata": {},
   "outputs": [],
   "source": [
    "pytesseract.pytesseract.tesseract_cmd = r'C:\\Program Files\\Tesseract-OCR\\tesseract.exe'"
   ]
  },
  {
   "cell_type": "code",
   "execution_count": null,
   "id": "6e061f57",
   "metadata": {},
   "outputs": [],
   "source": [
    "# create environment\n",
    "class WebGame(Env):\n",
    "    \n",
    "    #setup the environment action and observation shapes\n",
    "    def __init__(self):\n",
    "        #subclass model\n",
    "        super().__init__()\n",
    "        #setup spaces\n",
    "        self.observation_space = Box(low=0,high=255,shape= (1,83,100),dtype=np.uint8)\n",
    "        self.action_space = Discrete(3)\n",
    "        #define extraction parameters for the game\n",
    "        self.cap = mss()\n",
    "        self.game_location = {'top':350,'left':0,'width':400,'height':200}\n",
    "        self.done_location = {'top':300,'left':300,'width':500,'height':80}\n",
    "    \n",
    "    #what is called to do something in the game\n",
    "    def step(self,action):\n",
    "        #action keys  --->  0=space(up),1=duck(down),2=no action\n",
    "        action_map = {\n",
    "            0:'space',\n",
    "            1:'down',\n",
    "            2:'no_op'\n",
    "        }\n",
    "        if action != 2:\n",
    "            pydirectinput.press(action_map[action])\n",
    "        \n",
    "        #checking whether the game is done or not \n",
    "        done,done_cap = self.get_done()\n",
    "        #get the next observation\n",
    "        new_observation = self.get_observation()\n",
    "        #reward - we get a point for every frame we're alive\n",
    "        reward = 1\n",
    "        #info dictionary\n",
    "        info = {}\n",
    "        \n",
    "        return new_observation,reward,done,info\n",
    "    \n",
    "    #visualize the game\n",
    "    def render(self):\n",
    "        cv2.imshow('Game', np.array(self.cap.grab(self.game_location))[:,:,:3])   \n",
    "        if cv2.waitKey(1) & 0xFF == ord('q'):\n",
    "            self.close()\n",
    "    \n",
    "    #restart the game\n",
    "    def reset(self):\n",
    "        time.sleep(1)\n",
    "        pydirectinput.click(x=150, y=150)\n",
    "        pydirectinput.press('space')\n",
    "        return self.get_observation()\n",
    "      \n",
    "    #this closes down the observation\\\n",
    "    def close(self):\n",
    "        cv2.destroyAllWindows()\n",
    "    \n",
    "    # get the part the observation of the  game that we want\n",
    "    def get_observation(self):\n",
    "        #get screen capture of the game\n",
    "        raw = np.array(self.cap.grab(self.game_location))[:,:,:3]\n",
    "        #grayscale\n",
    "        gray = cv2.cvtColor(raw,cv2.COLOR_BGR2GRAY)\n",
    "        #resize\n",
    "        resized = cv2.resize(gray,(100,83))\n",
    "        #add channels first\n",
    "        channel = np.reshape(resized,(1,83,100))\n",
    "        return channel\n",
    "    \n",
    "    #get the done text using OCR\n",
    "    def get_done(self):\n",
    "        #get done screen\n",
    "        done_cap = np.array(self.cap.grab(self.done_location))\n",
    "        #valid done text\n",
    "        done_strings = ['GAME','GAHE']\n",
    "        #apply ocr\n",
    "        done = False\n",
    "        res = pytesseract.image_to_string(done_cap)[:4]\n",
    "        if res in done_strings:\n",
    "            done = True\n",
    "        \n",
    "        return done, done_cap"
   ]
  },
  {
   "cell_type": "code",
   "execution_count": null,
   "id": "38c1cfcb",
   "metadata": {},
   "outputs": [],
   "source": [
    "env = WebGame()"
   ]
  },
  {
   "cell_type": "code",
   "execution_count": null,
   "id": "1c4c5d3f",
   "metadata": {},
   "outputs": [],
   "source": [
    "plt.imshow(cv2.cvtColor(env.get_observation()[0],cv2.COLOR_BGR2RGB))"
   ]
  },
  {
   "cell_type": "code",
   "execution_count": null,
   "id": "70a19141",
   "metadata": {},
   "outputs": [],
   "source": [
    "done,done_cap = env.get_done()"
   ]
  },
  {
   "cell_type": "code",
   "execution_count": null,
   "id": "5374d023",
   "metadata": {},
   "outputs": [],
   "source": [
    "plt.imshow(done_cap)"
   ]
  },
  {
   "cell_type": "code",
   "execution_count": null,
   "id": "70c9a0ba",
   "metadata": {},
   "outputs": [],
   "source": [
    "done"
   ]
  },
  {
   "cell_type": "code",
   "execution_count": null,
   "id": "fc820462",
   "metadata": {},
   "outputs": [],
   "source": [
    "env.render()"
   ]
  },
  {
   "cell_type": "code",
   "execution_count": null,
   "id": "15d332c2",
   "metadata": {},
   "outputs": [],
   "source": [
    "env.close()"
   ]
  },
  {
   "cell_type": "code",
   "execution_count": null,
   "id": "9ecc05db",
   "metadata": {},
   "outputs": [],
   "source": [
    "for episode in range(10): \n",
    "    obs = env.reset()\n",
    "    done = False  \n",
    "    total_reward   = 0\n",
    "    while not done: \n",
    "        obs, reward,  done, info =  env.step(env.action_space.sample())\n",
    "        total_reward  += reward\n",
    "    print('Total Reward for episode {} is {}'.format(episode, total_reward))    \n"
   ]
  },
  {
   "cell_type": "code",
   "execution_count": null,
   "id": "d31b865b",
   "metadata": {},
   "outputs": [],
   "source": [
    "# Import os for file path management\n",
    "import os \n",
    "# Import Base Callback for saving models\n",
    "from stable_baselines3.common.callbacks import BaseCallback\n",
    "# Check Environment    \n",
    "from stable_baselines3.common import env_checker"
   ]
  },
  {
   "cell_type": "code",
   "execution_count": null,
   "id": "9d43ae04",
   "metadata": {},
   "outputs": [],
   "source": [
    "class TrainAndLoggingCallback(BaseCallback):\n",
    "\n",
    "    def __init__(self, check_freq, save_path, verbose=1):\n",
    "        super(TrainAndLoggingCallback, self).__init__(verbose)\n",
    "        self.check_freq = check_freq\n",
    "        self.save_path = save_path\n",
    "\n",
    "    def _init_callback(self):\n",
    "        if self.save_path is not None:\n",
    "            os.makedirs(self.save_path, exist_ok=True)\n",
    "\n",
    "    def _on_step(self):\n",
    "        if self.n_calls % self.check_freq == 0:\n",
    "            model_path = os.path.join(self.save_path, 'best_model_{}'.format(self.n_calls))\n",
    "            self.model.save(model_path)\n",
    "\n",
    "        return True"
   ]
  },
  {
   "cell_type": "code",
   "execution_count": null,
   "id": "966fb349",
   "metadata": {},
   "outputs": [],
   "source": [
    "CHECKPOINT_DIR = './train/'\n",
    "LOG_DIR = './logs/'"
   ]
  },
  {
   "cell_type": "code",
   "execution_count": null,
   "id": "a529af6f",
   "metadata": {},
   "outputs": [],
   "source": [
    "callback = TrainAndLoggingCallback(check_freq=300, save_path=CHECKPOINT_DIR)"
   ]
  },
  {
   "cell_type": "code",
   "execution_count": null,
   "id": "1babacdc",
   "metadata": {},
   "outputs": [],
   "source": [
    "from stable_baselines3 import DQN\n",
    "from stable_baselines3.common.monitor import Monitor\n",
    "from stable_baselines3.common.vec_env import DummyVecEnv, VecFrameStack"
   ]
  },
  {
   "cell_type": "code",
   "execution_count": null,
   "id": "27f46be9",
   "metadata": {},
   "outputs": [],
   "source": [
    "env = WebGame()"
   ]
  },
  {
   "cell_type": "code",
   "execution_count": null,
   "id": "41918260",
   "metadata": {},
   "outputs": [],
   "source": [
    "model = DQN('CnnPolicy', env, tensorboard_log=LOG_DIR, verbose=1,\n",
    "            buffer_size=12000, learning_starts=1000)"
   ]
  },
  {
   "cell_type": "code",
   "execution_count": null,
   "id": "93e8221b",
   "metadata": {},
   "outputs": [],
   "source": [
    "model.learn(total_timesteps=1000, callback=callback)"
   ]
  },
  {
   "cell_type": "code",
   "execution_count": null,
   "id": "470da8e2",
   "metadata": {},
   "outputs": [],
   "source": [
    "model= DQN.load(os.path.join('train','best_model_900')) "
   ]
  },
  {
   "cell_type": "code",
   "execution_count": null,
   "id": "111cea2d",
   "metadata": {},
   "outputs": [],
   "source": [
    "for episode in range(5):     \n",
    "    obs = env.reset()\n",
    "    done = False\n",
    "    total_reward = 0\n",
    "    while not done: \n",
    "        action, _ = model.predict(obs)   \n",
    "        obs, reward, done, info = env.step(int(action))\n",
    "        time.sleep(0.01) \n",
    "        total_reward += reward\n",
    "    print('Total Reward for episode {} is {}'.format(episode, total_reward))\n",
    "    time.sleep(2)     "
   ]
  },
  {
   "cell_type": "code",
   "execution_count": null,
   "id": "45743e01",
   "metadata": {},
   "outputs": [],
   "source": [
    " "
   ]
  }
 ],
 "metadata": {
  "kernelspec": {
   "display_name": "Python 3 (ipykernel)",
   "language": "python",
   "name": "python3"
  },
  "language_info": {
   "codemirror_mode": {
    "name": "ipython",
    "version": 3
   },
   "file_extension": ".py",
   "mimetype": "text/x-python",
   "name": "python",
   "nbconvert_exporter": "python",
   "pygments_lexer": "ipython3",
   "version": "3.9.12"
  }
 },
 "nbformat": 4,
 "nbformat_minor": 5
}
